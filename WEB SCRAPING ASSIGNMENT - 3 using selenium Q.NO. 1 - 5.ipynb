{
 "cells": [
  {
   "cell_type": "code",
   "execution_count": 27,
   "id": "a85ce820",
   "metadata": {},
   "outputs": [
    {
     "name": "stdout",
     "output_type": "stream",
     "text": [
      "Requirement already satisfied: webdriver-manager in c:\\users\\princ\\anaconda3\\lib\\site-packages (3.8.3)\n",
      "Requirement already satisfied: python-dotenv in c:\\users\\princ\\anaconda3\\lib\\site-packages (from webdriver-manager) (0.21.0)\n",
      "Requirement already satisfied: tqdm in c:\\users\\princ\\anaconda3\\lib\\site-packages (from webdriver-manager) (4.62.3)\n",
      "Requirement already satisfied: requests in c:\\users\\princ\\anaconda3\\lib\\site-packages (from webdriver-manager) (2.26.0)\n",
      "Requirement already satisfied: urllib3<1.27,>=1.21.1 in c:\\users\\princ\\anaconda3\\lib\\site-packages (from requests->webdriver-manager) (1.26.7)\n",
      "Requirement already satisfied: idna<4,>=2.5 in c:\\users\\princ\\anaconda3\\lib\\site-packages (from requests->webdriver-manager) (3.2)\n",
      "Requirement already satisfied: certifi>=2017.4.17 in c:\\users\\princ\\anaconda3\\lib\\site-packages (from requests->webdriver-manager) (2021.10.8)\n",
      "Requirement already satisfied: charset-normalizer~=2.0.0 in c:\\users\\princ\\anaconda3\\lib\\site-packages (from requests->webdriver-manager) (2.0.4)\n",
      "Requirement already satisfied: colorama in c:\\users\\princ\\anaconda3\\lib\\site-packages (from tqdm->webdriver-manager) (0.4.4)\n",
      "Note: you may need to restart the kernel to use updated packages.\n"
     ]
    }
   ],
   "source": [
    "pip install webdriver-manager"
   ]
  },
  {
   "cell_type": "code",
   "execution_count": 28,
   "id": "d0a58cfc",
   "metadata": {},
   "outputs": [
    {
     "name": "stdout",
     "output_type": "stream",
     "text": [
      "Requirement already satisfied: selectorlib in c:\\users\\princ\\anaconda3\\lib\\site-packages (0.16.0)Note: you may need to restart the kernel to use updated packages.\n",
      "Requirement already satisfied: pyyaml>=3.12 in c:\\users\\princ\\anaconda3\\lib\\site-packages (from selectorlib) (6.0)\n",
      "Requirement already satisfied: Click>=6.0 in c:\\users\\princ\\anaconda3\\lib\\site-packages (from selectorlib) (8.0.3)\n",
      "Requirement already satisfied: parsel>=1.5.1 in c:\\users\\princ\\anaconda3\\lib\\site-packages (from selectorlib) (1.6.0)\n",
      "Requirement already satisfied: colorama in c:\\users\\princ\\anaconda3\\lib\\site-packages (from Click>=6.0->selectorlib) (0.4.4)\n",
      "Requirement already satisfied: six>=1.6.0 in c:\\users\\princ\\anaconda3\\lib\\site-packages (from parsel>=1.5.1->selectorlib) (1.16.0)\n",
      "\n",
      "Requirement already satisfied: lxml in c:\\users\\princ\\anaconda3\\lib\\site-packages (from parsel>=1.5.1->selectorlib) (4.6.3)\n",
      "Requirement already satisfied: cssselect>=0.9 in c:\\users\\princ\\anaconda3\\lib\\site-packages (from parsel>=1.5.1->selectorlib) (1.1.0)\n",
      "Requirement already satisfied: w3lib>=1.19.0 in c:\\users\\princ\\anaconda3\\lib\\site-packages (from parsel>=1.5.1->selectorlib) (2.0.1)\n"
     ]
    }
   ],
   "source": [
    "pip install selectorlib"
   ]
  },
  {
   "cell_type": "markdown",
   "id": "141936c9",
   "metadata": {},
   "source": [
    "# 1. Write a python program which searches all the product under a particular product from www.amazon.in. \n",
    "The product to be searched will be taken as input from user. For e.g. If user input is ‘guitar’. Then search \n",
    "for guitars"
   ]
  },
  {
   "cell_type": "markdown",
   "id": "d019f0d9",
   "metadata": {},
   "source": [
    "# 2. In the above question, now scrape the following details of each product listed in first 3 pages of your \n",
    "search results and save it in a data frame and csv. In case if any product has less than 3 pages in search \n",
    "results then scrape all the products available under that product name. Details to be scraped are: \"Brand \n",
    "Name\", \"Name of the Product\", \"Price\", \"Return/Exchange\", \"Expected Delivery\", \"Availability\" and \n",
    "“Product URL”. In case, if any of the details are missing for any of the product then replace it by “-“"
   ]
  },
  {
   "cell_type": "code",
   "execution_count": 29,
   "id": "e5469377",
   "metadata": {},
   "outputs": [],
   "source": [
    "#import needed libraries\n",
    "from selenium import webdriver\n",
    "import numpy as np\n",
    "import pandas as pd\n",
    "import time\n",
    "import warnings\n",
    "warnings.filterwarnings('ignore')\n",
    "\n",
    "from selenium.common.exceptions import NoSuchElementException"
   ]
  },
  {
   "cell_type": "code",
   "execution_count": 30,
   "id": "0b4156ca",
   "metadata": {},
   "outputs": [],
   "source": [
    "#open empty web driver\n",
    "driver=webdriver.Chrome(r\"C:\\Users\\princ\\Downloads\\chromedriver_win32 (3)\\chromedriver.exe\")\n",
    "driver.get('https://www.amazon.in/')"
   ]
  },
  {
   "cell_type": "code",
   "execution_count": 31,
   "id": "3f533ab5",
   "metadata": {},
   "outputs": [],
   "source": [
    "from selenium.webdriver.common.by import By"
   ]
  },
  {
   "cell_type": "code",
   "execution_count": 32,
   "id": "f08d65f0",
   "metadata": {},
   "outputs": [
    {
     "name": "stdout",
     "output_type": "stream",
     "text": [
      "Enter the Product:-guitar\n"
     ]
    }
   ],
   "source": [
    "#for job search bar\n",
    "search_for_job_role=driver.find_element(By.XPATH,'/html/body/div[1]/header/div/div[1]/div[2]/div/form/div[2]/div[1]/input')\n",
    "search_for_job_role.send_keys(input(\"Enter the Product:-\"))"
   ]
  },
  {
   "cell_type": "code",
   "execution_count": 33,
   "id": "2e11c821",
   "metadata": {},
   "outputs": [],
   "source": [
    "#for clicking search button\n",
    "search_button=driver.find_element(By.XPATH,'/html/body/div[1]/header/div/div[1]/div[2]/div/form/div[3]/div/span/input')\n",
    "search_button.click()\n",
    "time.sleep(5)\n",
    "driver.implicitly_wait(5)"
   ]
  },
  {
   "cell_type": "code",
   "execution_count": 34,
   "id": "fe014092",
   "metadata": {},
   "outputs": [],
   "source": [
    "guitar_name1=[]\n",
    "try:\n",
    "    guitar_tag1=driver.find_elements(By.XPATH,'//span[@class=\"a-size-base-plus a-color-base a-text-normal\"]')\n",
    "except NoSuchElementException as e:\n",
    "    print('Type of Error:',e) \n",
    "for x in guitar_tag1:\n",
    "    guitar_name1.append(x.text)\n",
    "time.sleep(4)"
   ]
  },
  {
   "cell_type": "code",
   "execution_count": 35,
   "id": "04f3cc38",
   "metadata": {},
   "outputs": [],
   "source": [
    "guitar_price1=[]\n",
    "try:\n",
    "    guitar_tag1=driver.find_elements(By.XPATH,'//span[@class=\"a-price-whole\"]')\n",
    "except NoSuchElementException as e:\n",
    "    print('Type of Error:',e)\n",
    "for x in guitar_tag1:\n",
    "    guitar_price1.append(x.text)\n",
    "time.sleep(5)\n",
    "guitar_price.insert(25,'-')\n",
    "time.sleep(5)\n",
    "guitar_price.insert(51,'-')"
   ]
  },
  {
   "cell_type": "code",
   "execution_count": 36,
   "id": "509ded1a",
   "metadata": {},
   "outputs": [],
   "source": [
    "guitar_delivery1=[]\n",
    "try:\n",
    "    guitar_tag1=driver.find_elements(By.XPATH,'//span[@class=\"a-color-secondary\"]')\n",
    "except NoSuchElementException as e:\n",
    "    print('Type of Error:',e)\n",
    "for x in guitar_tag1:\n",
    "    guitar_delivery.append(x.text)\n",
    "time.sleep(5)\n",
    "guitar_delivery.insert(20,'-')\n",
    "time.sleep(5)\n",
    "guitar_delivery.insert(25,'-')\n",
    "time.sleep(5)\n",
    "guitar_delivery.insert(51,'-')"
   ]
  },
  {
   "cell_type": "code",
   "execution_count": 40,
   "id": "8e7b4891",
   "metadata": {},
   "outputs": [],
   "source": [
    "next_page1=driver.find_element(By.XPATH,'/html/body/div[1]/div[2]/div[1]/div[1]/div/span[3]/div[2]/div[60]/div/div/span/a[3]')\n",
    "next_page1.click()"
   ]
  },
  {
   "cell_type": "code",
   "execution_count": 41,
   "id": "cb242372",
   "metadata": {},
   "outputs": [],
   "source": [
    "guitar_tag1=driver.find_elements(By.XPATH,'//span[@class=\"a-size-base-plus a-color-base a-text-normal\"]')\n",
    "for x in guitar_tag1:\n",
    "    guitar_name1.append(x.text)\n",
    "time.sleep(5)"
   ]
  },
  {
   "cell_type": "code",
   "execution_count": 42,
   "id": "a0dbc79e",
   "metadata": {},
   "outputs": [],
   "source": [
    "guitar_tag1=driver.find_elements(By.XPATH,'//span[@class=\"a-price-whole\"]')\n",
    "for x in guitar_tag1:\n",
    "    guitar_price1.append(x.text)\n",
    "time.sleep(5)\n",
    "guitar_price1.insert(93,'-')"
   ]
  },
  {
   "cell_type": "code",
   "execution_count": 47,
   "id": "08884acf",
   "metadata": {},
   "outputs": [],
   "source": [
    "guitar_tag1=driver.find_elements(By.XPATH,'//span[@class=\"a-color-secondary\"]')\n",
    "for x in guitar_tag1:\n",
    "    guitar_delivery1.append(x.text)\n",
    "time.sleep(5)\n",
    "guitar_delivery1.insert(62,'-')\n",
    "time.sleep(5)\n",
    "guitar_delivery1.insert(79,'-')\n",
    "time.sleep(5)\n",
    "guitar_delivery1.insert(90,'-')\n",
    "time.sleep(5)\n",
    "guitar_delivery1.insert(93,'-')\n",
    "time.sleep(5)"
   ]
  },
  {
   "cell_type": "code",
   "execution_count": 48,
   "id": "e045baa9",
   "metadata": {},
   "outputs": [
    {
     "name": "stdout",
     "output_type": "stream",
     "text": [
      "105 107 60\n"
     ]
    }
   ],
   "source": [
    "print(len(guitar_name1),len(guitar_price1),len(guitar_delivery1))"
   ]
  },
  {
   "cell_type": "code",
   "execution_count": 49,
   "id": "51df7f44",
   "metadata": {},
   "outputs": [
    {
     "name": "stdout",
     "output_type": "stream",
     "text": [
      "60\n"
     ]
    }
   ],
   "source": [
    "guitar_name2=guitar_name1[0:60]\n",
    "print(len(guitar_name2))"
   ]
  },
  {
   "cell_type": "code",
   "execution_count": 50,
   "id": "9b6fb239",
   "metadata": {},
   "outputs": [
    {
     "name": "stdout",
     "output_type": "stream",
     "text": [
      "60\n"
     ]
    }
   ],
   "source": [
    "guitar_price2=guitar_price1[0:60]\n",
    "print(len(guitar_price2))"
   ]
  },
  {
   "cell_type": "code",
   "execution_count": 51,
   "id": "53f5c687",
   "metadata": {},
   "outputs": [
    {
     "name": "stdout",
     "output_type": "stream",
     "text": [
      "60\n"
     ]
    }
   ],
   "source": [
    "print(len(guitar_delivery1))"
   ]
  },
  {
   "cell_type": "code",
   "execution_count": 52,
   "id": "8165e8b2",
   "metadata": {},
   "outputs": [],
   "source": [
    "#create dataframe\n",
    "df=pd.DataFrame()\n",
    "df['Guitar Name']=guitar_name2\n",
    "df['Guitar Price']=guitar_price2\n",
    "df['Guitar Delivery Date']=guitar_delivery1"
   ]
  },
  {
   "cell_type": "code",
   "execution_count": 53,
   "id": "485eab3f",
   "metadata": {},
   "outputs": [
    {
     "data": {
      "text/html": [
       "<div>\n",
       "<style scoped>\n",
       "    .dataframe tbody tr th:only-of-type {\n",
       "        vertical-align: middle;\n",
       "    }\n",
       "\n",
       "    .dataframe tbody tr th {\n",
       "        vertical-align: top;\n",
       "    }\n",
       "\n",
       "    .dataframe thead th {\n",
       "        text-align: right;\n",
       "    }\n",
       "</style>\n",
       "<table border=\"1\" class=\"dataframe\">\n",
       "  <thead>\n",
       "    <tr style=\"text-align: right;\">\n",
       "      <th></th>\n",
       "      <th>Guitar Name</th>\n",
       "      <th>Guitar Price</th>\n",
       "      <th>Guitar Delivery Date</th>\n",
       "    </tr>\n",
       "  </thead>\n",
       "  <tbody>\n",
       "    <tr>\n",
       "      <th>0</th>\n",
       "      <td>Kadence Frontier guitar with Online Guitar lea...</td>\n",
       "      <td>3,999</td>\n",
       "      <td>10% Off on SBI Cards</td>\n",
       "    </tr>\n",
       "    <tr>\n",
       "      <th>1</th>\n",
       "      <td>Kadence Slowhand Premium Jumbo Semi Acoustic G...</td>\n",
       "      <td>8,999</td>\n",
       "      <td></td>\n",
       "    </tr>\n",
       "    <tr>\n",
       "      <th>2</th>\n",
       "      <td>Juârez Acoustic Guitar, 38 Inch Cutaway, 038C ...</td>\n",
       "      <td>1,774</td>\n",
       "      <td>10% Off on SBI Cards</td>\n",
       "    </tr>\n",
       "    <tr>\n",
       "      <th>3</th>\n",
       "      <td>Intern INT-38C Right hand Acoustic Guitar Kit,...</td>\n",
       "      <td>1,799</td>\n",
       "      <td>10% Off on SBI Cards</td>\n",
       "    </tr>\n",
       "    <tr>\n",
       "      <th>4</th>\n",
       "      <td>Intern 38C Ebony Wood Cutaway Design Acoustic ...</td>\n",
       "      <td>1,699</td>\n",
       "      <td>10% Off on SBI Cards</td>\n",
       "    </tr>\n",
       "    <tr>\n",
       "      <th>5</th>\n",
       "      <td>Fender CD 60 Dread V3 DS 6 String Acoustic Gui...</td>\n",
       "      <td>12,499</td>\n",
       "      <td>10% Off on SBI Cards</td>\n",
       "    </tr>\n",
       "    <tr>\n",
       "      <th>6</th>\n",
       "      <td>Yamaha FS100C Acoustic Guitar, Natural</td>\n",
       "      <td>8,999</td>\n",
       "      <td>10% Off on SBI Cards</td>\n",
       "    </tr>\n",
       "    <tr>\n",
       "      <th>7</th>\n",
       "      <td>Hovner 215 Black F-Cut Rosewood Fretboard Acou...</td>\n",
       "      <td>4,256</td>\n",
       "      <td>10% Off on SBI Cards</td>\n",
       "    </tr>\n",
       "    <tr>\n",
       "      <th>8</th>\n",
       "      <td></td>\n",
       "      <td></td>\n",
       "      <td>Buy 2 get 5% off Buy 3 get 10%...</td>\n",
       "    </tr>\n",
       "    <tr>\n",
       "      <th>9</th>\n",
       "      <td>Intern INT-38C Acoustic Guitar Kit (Blue)</td>\n",
       "      <td>6,157</td>\n",
       "      <td>10% Off on SBI Cards</td>\n",
       "    </tr>\n",
       "    <tr>\n",
       "      <th>10</th>\n",
       "      <td>Juarez Acoustic Guitar, 38 Inch Curved Body Cu...</td>\n",
       "      <td>1,854</td>\n",
       "      <td>10% Off on SBI Cards</td>\n",
       "    </tr>\n",
       "    <tr>\n",
       "      <th>11</th>\n",
       "      <td>Intern 38C Wooden Acoustic Steel-String Guitar...</td>\n",
       "      <td>1,774</td>\n",
       "      <td>Buy 2 get 5% off Buy 3 get 10%...</td>\n",
       "    </tr>\n",
       "    <tr>\n",
       "      <th>12</th>\n",
       "      <td>Medellin 38\" Acoustic Guitar Blue Burst Carbon...</td>\n",
       "      <td>1,989</td>\n",
       "      <td>10% Off on SBI Cards</td>\n",
       "    </tr>\n",
       "    <tr>\n",
       "      <th>13</th>\n",
       "      <td>Juarez Acoustic Guitar Kit, 38 Inch Cutaway, 3...</td>\n",
       "      <td>2,199</td>\n",
       "      <td>10% Off on SBI Cards</td>\n",
       "    </tr>\n",
       "    <tr>\n",
       "      <th>14</th>\n",
       "      <td>Juarez Acoustic Guitar Kit, 38 Inch Cutaway, 3...</td>\n",
       "      <td>1,749</td>\n",
       "      <td>Buy 2 get 5% off Buy 3 get 10%...</td>\n",
       "    </tr>\n",
       "    <tr>\n",
       "      <th>15</th>\n",
       "      <td>JUAREZ JRZ38C Right Handed Acoustic Guitar wit...</td>\n",
       "      <td>1,799</td>\n",
       "      <td>Buy 2 get 5% off Buy 3 get 10%...</td>\n",
       "    </tr>\n",
       "    <tr>\n",
       "      <th>16</th>\n",
       "      <td>Hovner 215 Black F-Cut Rosewood Fretboard Acou...</td>\n",
       "      <td>2,300</td>\n",
       "      <td>10% Off on SBI Cards</td>\n",
       "    </tr>\n",
       "    <tr>\n",
       "      <th>17</th>\n",
       "      <td>Kadence Frontier guitar with Online Guitar lea...</td>\n",
       "      <td>4,256</td>\n",
       "      <td>10% Off on SBI Cards</td>\n",
       "    </tr>\n",
       "    <tr>\n",
       "      <th>18</th>\n",
       "      <td>Henrix 38C 38 inch Cutaway Acoustic Guitar wit...</td>\n",
       "      <td>3,999</td>\n",
       "      <td>10% Off on SBI Cards</td>\n",
       "    </tr>\n",
       "    <tr>\n",
       "      <th>19</th>\n",
       "      <td>Kadence Guitar Frontier Series, Electric Acous...</td>\n",
       "      <td>2,688</td>\n",
       "      <td>10% Off on SBI Cards</td>\n",
       "    </tr>\n",
       "    <tr>\n",
       "      <th>20</th>\n",
       "      <td>Yamaha FS100C Acoustic Guitar, Black</td>\n",
       "      <td>5,219</td>\n",
       "      <td>10% Off on SBI Cards</td>\n",
       "    </tr>\n",
       "    <tr>\n",
       "      <th>21</th>\n",
       "      <td>Medellin 38\" Acoustic Guitar Black Carbon Fibe...</td>\n",
       "      <td>9,000</td>\n",
       "      <td>10% Off on SBI Cards</td>\n",
       "    </tr>\n",
       "    <tr>\n",
       "      <th>22</th>\n",
       "      <td>KREEPO Guitar Fretboard Stickers Beginner Lear...</td>\n",
       "      <td>2,199</td>\n",
       "      <td>10% Off on SBI Cards</td>\n",
       "    </tr>\n",
       "    <tr>\n",
       "      <th>23</th>\n",
       "      <td>KREEPO Guitar Fretboard Sticker Fingerboard Em...</td>\n",
       "      <td>299</td>\n",
       "      <td>10% Off on SBI Cards</td>\n",
       "    </tr>\n",
       "    <tr>\n",
       "      <th>24</th>\n",
       "      <td>DEVICE OF URBAN INFOTECH Tuning Peg Silver for...</td>\n",
       "      <td>299</td>\n",
       "      <td>10% Off on SBI Cards</td>\n",
       "    </tr>\n",
       "    <tr>\n",
       "      <th>25</th>\n",
       "      <td>Revel 38 Inches Cutaway Design Acoustic Guitar...</td>\n",
       "      <td>480</td>\n",
       "      <td>10% Off on SBI Cards</td>\n",
       "    </tr>\n",
       "    <tr>\n",
       "      <th>26</th>\n",
       "      <td>YAMAHA FS80C NATURAL CONCERT CUTAWAY GUITAR</td>\n",
       "      <td>1,998</td>\n",
       "      <td>10% Off on SBI Cards</td>\n",
       "    </tr>\n",
       "    <tr>\n",
       "      <th>27</th>\n",
       "      <td>Kadence AstroMan Electric Guitar, 21 FRETS, RO...</td>\n",
       "      <td>7,727</td>\n",
       "      <td>10% Off on SBI Cards</td>\n",
       "    </tr>\n",
       "    <tr>\n",
       "      <th>28</th>\n",
       "      <td>Juârez JRZ38C/MAH 6 Strings Acoustic Guitar 38...</td>\n",
       "      <td>6,499</td>\n",
       "      <td>10% Off on SBI Cards</td>\n",
       "    </tr>\n",
       "    <tr>\n",
       "      <th>29</th>\n",
       "      <td>INTERN 41 inches Acoustic Guitar with truss ro...</td>\n",
       "      <td>2,248</td>\n",
       "      <td></td>\n",
       "    </tr>\n",
       "    <tr>\n",
       "      <th>30</th>\n",
       "      <td>Yamaha Classical Guitar C40//02</td>\n",
       "      <td>3,698</td>\n",
       "      <td>10% Off on SBI Cards</td>\n",
       "    </tr>\n",
       "    <tr>\n",
       "      <th>31</th>\n",
       "      <td>Medellin 38\" Carbon Fiber Acoustic Guitar with...</td>\n",
       "      <td>7,490</td>\n",
       "      <td>10% Off on SBI Cards</td>\n",
       "    </tr>\n",
       "    <tr>\n",
       "      <th>32</th>\n",
       "      <td>Intern INT-38C Acoustic Guitar Kit (Sunburst) ...</td>\n",
       "      <td>1,999</td>\n",
       "      <td>10% Off on SBI Cards</td>\n",
       "    </tr>\n",
       "    <tr>\n",
       "      <th>33</th>\n",
       "      <td>Yamaha F280 Acoustic Guitar, Tobacco Brown Sun...</td>\n",
       "      <td>1,898</td>\n",
       "      <td>10% Off on SBI Cards</td>\n",
       "    </tr>\n",
       "    <tr>\n",
       "      <th>34</th>\n",
       "      <td>Juarez Acoustic Guitar, [ LEFT HANDED] 38 Inch...</td>\n",
       "      <td>2,549</td>\n",
       "      <td>10% Off on SBI Cards</td>\n",
       "    </tr>\n",
       "    <tr>\n",
       "      <th>35</th>\n",
       "      <td>Yamaha FS100C Acoustic Guitar, Natural</td>\n",
       "      <td>8,999</td>\n",
       "      <td>10% Off on SBI Cards</td>\n",
       "    </tr>\n",
       "    <tr>\n",
       "      <th>36</th>\n",
       "      <td>Revel 38 Inches Cutaway Design Acoustic Guitar...</td>\n",
       "      <td>2,099</td>\n",
       "      <td>Buy 2 get 5% off Buy 3 get 10%...</td>\n",
       "    </tr>\n",
       "    <tr>\n",
       "      <th>37</th>\n",
       "      <td>Hovner Carlton Special Quality Rosewood Fretbo...</td>\n",
       "      <td>4,750</td>\n",
       "      <td>10% Off on SBI Cards</td>\n",
       "    </tr>\n",
       "    <tr>\n",
       "      <th>38</th>\n",
       "      <td>JUAREZ Arpéggio 104.14 cm (41 Inch) Semi-Acous...</td>\n",
       "      <td>5,826</td>\n",
       "      <td>10% Off on SBI Cards</td>\n",
       "    </tr>\n",
       "    <tr>\n",
       "      <th>39</th>\n",
       "      <td>Intern INT-38C Acoustic Guitar Kit (Red)</td>\n",
       "      <td>1,989</td>\n",
       "      <td>Buy 2 get 5% off Buy 3 get 10%...</td>\n",
       "    </tr>\n",
       "    <tr>\n",
       "      <th>40</th>\n",
       "      <td>JUAREZ JRZ-HSS01 ELECTRIC GUITAR (SUNBURST) - ...</td>\n",
       "      <td>5,399</td>\n",
       "      <td>10% Off on SBI Cards</td>\n",
       "    </tr>\n",
       "    <tr>\n",
       "      <th>41</th>\n",
       "      <td>Intern INT-38C-BK-G Cutaway Right Handed Acous...</td>\n",
       "      <td>1,799</td>\n",
       "      <td>10% Off on SBI Cards</td>\n",
       "    </tr>\n",
       "    <tr>\n",
       "      <th>42</th>\n",
       "      <td>Medellin 38\" Acoustic Guitar Brown Carbon Fibe...</td>\n",
       "      <td>2,199</td>\n",
       "      <td>Buy 2 get 5% off Buy 3 get 10%...</td>\n",
       "    </tr>\n",
       "    <tr>\n",
       "      <th>43</th>\n",
       "      <td>Juarez JRZ-ST02 6-String Electric Guitar, Righ...</td>\n",
       "      <td>5,451</td>\n",
       "      <td>Buy 2 get 5% off Buy 3 get 10%...</td>\n",
       "    </tr>\n",
       "    <tr>\n",
       "      <th>44</th>\n",
       "      <td>Intern INT-38C Natural Linden Wood Acoustic Gu...</td>\n",
       "      <td>1,699</td>\n",
       "      <td>10% Off on SBI Cards</td>\n",
       "    </tr>\n",
       "    <tr>\n",
       "      <th>45</th>\n",
       "      <td>Vault Junior 30 Inch Acoustic Guitar for Kids ...</td>\n",
       "      <td>3,799</td>\n",
       "      <td>10% Off on SBI Cards</td>\n",
       "    </tr>\n",
       "    <tr>\n",
       "      <th>46</th>\n",
       "      <td>Yamaha FX280 Semi acoustic Dreadnought Guitar ...</td>\n",
       "      <td>11,899</td>\n",
       "      <td>10% Off on SBI Cards</td>\n",
       "    </tr>\n",
       "    <tr>\n",
       "      <th>47</th>\n",
       "      <td>Intern INT-38C Acoustic Guitar Kit (Purple)</td>\n",
       "      <td>1,799</td>\n",
       "      <td>10% Off on SBI Cards</td>\n",
       "    </tr>\n",
       "    <tr>\n",
       "      <th>48</th>\n",
       "      <td>Yamaha F310 Acoustic Guitar, Tobacco Brown Sun...</td>\n",
       "      <td>9,983</td>\n",
       "      <td>10% Off on SBI Cards</td>\n",
       "    </tr>\n",
       "    <tr>\n",
       "      <th>49</th>\n",
       "      <td>Ibanez MD39C-NT Acoustic Guitar (Natural), Des...</td>\n",
       "      <td>6,989</td>\n",
       "      <td>10% Off on SBI Cards</td>\n",
       "    </tr>\n",
       "    <tr>\n",
       "      <th>50</th>\n",
       "      <td>Medellin MED-BLU-C Linden Wood Acoustic Guitar</td>\n",
       "      <td>1,934</td>\n",
       "      <td>10% Off on SBI Cards</td>\n",
       "    </tr>\n",
       "    <tr>\n",
       "      <th>51</th>\n",
       "      <td>INTERN 41 inches Cutaway Shape Acoustic Guitar...</td>\n",
       "      <td>2,899</td>\n",
       "      <td>10% Off on SBI Cards</td>\n",
       "    </tr>\n",
       "    <tr>\n",
       "      <th>52</th>\n",
       "      <td>Blueberry B-38C-Brown 38 Inch Acoustic Guitar ...</td>\n",
       "      <td>2,426</td>\n",
       "      <td>10% Off on SBI Cards</td>\n",
       "    </tr>\n",
       "    <tr>\n",
       "      <th>53</th>\n",
       "      <td>Juarez Acoustic Guitar, [LEFT HANDED] 96.52 cm...</td>\n",
       "      <td>2,638</td>\n",
       "      <td>10% Off on SBI Cards</td>\n",
       "    </tr>\n",
       "    <tr>\n",
       "      <th>54</th>\n",
       "      <td>Givson Venus Special Cutaway Rosewood 41 Inch ...</td>\n",
       "      <td>3,989</td>\n",
       "      <td>10% Off on SBI Cards</td>\n",
       "    </tr>\n",
       "    <tr>\n",
       "      <th>55</th>\n",
       "      <td>Medellin 38\" Acoustic Guitar Carbon Fiber body...</td>\n",
       "      <td>2,299</td>\n",
       "      <td>10% Off on SBI Cards</td>\n",
       "    </tr>\n",
       "    <tr>\n",
       "      <th>56</th>\n",
       "      <td>Intern Int-38c Sunburst Linden Wood Acoustic G...</td>\n",
       "      <td>1,749</td>\n",
       "      <td>-</td>\n",
       "    </tr>\n",
       "    <tr>\n",
       "      <th>57</th>\n",
       "      <td>JUAREZ Acoustic Guitar 3xE 1st String &amp; 2 Pick...</td>\n",
       "      <td>158</td>\n",
       "      <td>-</td>\n",
       "    </tr>\n",
       "    <tr>\n",
       "      <th>58</th>\n",
       "      <td>Juârez JRZ38C/WH 6 Strings Acoustic Guitar 38 ...</td>\n",
       "      <td>2,997</td>\n",
       "      <td>-</td>\n",
       "    </tr>\n",
       "    <tr>\n",
       "      <th>59</th>\n",
       "      <td>Kadence Guitar Acoustica Series, 41” Jumbo Siz...</td>\n",
       "      <td>6,499</td>\n",
       "      <td>-</td>\n",
       "    </tr>\n",
       "  </tbody>\n",
       "</table>\n",
       "</div>"
      ],
      "text/plain": [
       "                                          Guitar Name Guitar Price  \\\n",
       "0   Kadence Frontier guitar with Online Guitar lea...        3,999   \n",
       "1   Kadence Slowhand Premium Jumbo Semi Acoustic G...        8,999   \n",
       "2   Juârez Acoustic Guitar, 38 Inch Cutaway, 038C ...        1,774   \n",
       "3   Intern INT-38C Right hand Acoustic Guitar Kit,...        1,799   \n",
       "4   Intern 38C Ebony Wood Cutaway Design Acoustic ...        1,699   \n",
       "5   Fender CD 60 Dread V3 DS 6 String Acoustic Gui...       12,499   \n",
       "6              Yamaha FS100C Acoustic Guitar, Natural        8,999   \n",
       "7   Hovner 215 Black F-Cut Rosewood Fretboard Acou...        4,256   \n",
       "8                                                                    \n",
       "9           Intern INT-38C Acoustic Guitar Kit (Blue)        6,157   \n",
       "10  Juarez Acoustic Guitar, 38 Inch Curved Body Cu...        1,854   \n",
       "11  Intern 38C Wooden Acoustic Steel-String Guitar...        1,774   \n",
       "12  Medellin 38\" Acoustic Guitar Blue Burst Carbon...        1,989   \n",
       "13  Juarez Acoustic Guitar Kit, 38 Inch Cutaway, 3...        2,199   \n",
       "14  Juarez Acoustic Guitar Kit, 38 Inch Cutaway, 3...        1,749   \n",
       "15  JUAREZ JRZ38C Right Handed Acoustic Guitar wit...        1,799   \n",
       "16  Hovner 215 Black F-Cut Rosewood Fretboard Acou...        2,300   \n",
       "17  Kadence Frontier guitar with Online Guitar lea...        4,256   \n",
       "18  Henrix 38C 38 inch Cutaway Acoustic Guitar wit...        3,999   \n",
       "19  Kadence Guitar Frontier Series, Electric Acous...        2,688   \n",
       "20               Yamaha FS100C Acoustic Guitar, Black        5,219   \n",
       "21  Medellin 38\" Acoustic Guitar Black Carbon Fibe...        9,000   \n",
       "22  KREEPO Guitar Fretboard Stickers Beginner Lear...        2,199   \n",
       "23  KREEPO Guitar Fretboard Sticker Fingerboard Em...          299   \n",
       "24  DEVICE OF URBAN INFOTECH Tuning Peg Silver for...          299   \n",
       "25  Revel 38 Inches Cutaway Design Acoustic Guitar...          480   \n",
       "26        YAMAHA FS80C NATURAL CONCERT CUTAWAY GUITAR        1,998   \n",
       "27  Kadence AstroMan Electric Guitar, 21 FRETS, RO...        7,727   \n",
       "28  Juârez JRZ38C/MAH 6 Strings Acoustic Guitar 38...        6,499   \n",
       "29  INTERN 41 inches Acoustic Guitar with truss ro...        2,248   \n",
       "30                    Yamaha Classical Guitar C40//02        3,698   \n",
       "31  Medellin 38\" Carbon Fiber Acoustic Guitar with...        7,490   \n",
       "32  Intern INT-38C Acoustic Guitar Kit (Sunburst) ...        1,999   \n",
       "33  Yamaha F280 Acoustic Guitar, Tobacco Brown Sun...        1,898   \n",
       "34  Juarez Acoustic Guitar, [ LEFT HANDED] 38 Inch...        2,549   \n",
       "35             Yamaha FS100C Acoustic Guitar, Natural        8,999   \n",
       "36  Revel 38 Inches Cutaway Design Acoustic Guitar...        2,099   \n",
       "37  Hovner Carlton Special Quality Rosewood Fretbo...        4,750   \n",
       "38  JUAREZ Arpéggio 104.14 cm (41 Inch) Semi-Acous...        5,826   \n",
       "39           Intern INT-38C Acoustic Guitar Kit (Red)        1,989   \n",
       "40  JUAREZ JRZ-HSS01 ELECTRIC GUITAR (SUNBURST) - ...        5,399   \n",
       "41  Intern INT-38C-BK-G Cutaway Right Handed Acous...        1,799   \n",
       "42  Medellin 38\" Acoustic Guitar Brown Carbon Fibe...        2,199   \n",
       "43  Juarez JRZ-ST02 6-String Electric Guitar, Righ...        5,451   \n",
       "44  Intern INT-38C Natural Linden Wood Acoustic Gu...        1,699   \n",
       "45  Vault Junior 30 Inch Acoustic Guitar for Kids ...        3,799   \n",
       "46  Yamaha FX280 Semi acoustic Dreadnought Guitar ...       11,899   \n",
       "47        Intern INT-38C Acoustic Guitar Kit (Purple)        1,799   \n",
       "48  Yamaha F310 Acoustic Guitar, Tobacco Brown Sun...        9,983   \n",
       "49  Ibanez MD39C-NT Acoustic Guitar (Natural), Des...        6,989   \n",
       "50     Medellin MED-BLU-C Linden Wood Acoustic Guitar        1,934   \n",
       "51  INTERN 41 inches Cutaway Shape Acoustic Guitar...        2,899   \n",
       "52  Blueberry B-38C-Brown 38 Inch Acoustic Guitar ...        2,426   \n",
       "53  Juarez Acoustic Guitar, [LEFT HANDED] 96.52 cm...        2,638   \n",
       "54  Givson Venus Special Cutaway Rosewood 41 Inch ...        3,989   \n",
       "55  Medellin 38\" Acoustic Guitar Carbon Fiber body...        2,299   \n",
       "56  Intern Int-38c Sunburst Linden Wood Acoustic G...        1,749   \n",
       "57  JUAREZ Acoustic Guitar 3xE 1st String & 2 Pick...          158   \n",
       "58  Juârez JRZ38C/WH 6 Strings Acoustic Guitar 38 ...        2,997   \n",
       "59  Kadence Guitar Acoustica Series, 41” Jumbo Siz...        6,499   \n",
       "\n",
       "                 Guitar Delivery Date  \n",
       "0                10% Off on SBI Cards  \n",
       "1                                      \n",
       "2                10% Off on SBI Cards  \n",
       "3                10% Off on SBI Cards  \n",
       "4                10% Off on SBI Cards  \n",
       "5                10% Off on SBI Cards  \n",
       "6                10% Off on SBI Cards  \n",
       "7                10% Off on SBI Cards  \n",
       "8   Buy 2 get 5% off Buy 3 get 10%...  \n",
       "9                10% Off on SBI Cards  \n",
       "10               10% Off on SBI Cards  \n",
       "11  Buy 2 get 5% off Buy 3 get 10%...  \n",
       "12               10% Off on SBI Cards  \n",
       "13               10% Off on SBI Cards  \n",
       "14  Buy 2 get 5% off Buy 3 get 10%...  \n",
       "15  Buy 2 get 5% off Buy 3 get 10%...  \n",
       "16               10% Off on SBI Cards  \n",
       "17               10% Off on SBI Cards  \n",
       "18               10% Off on SBI Cards  \n",
       "19               10% Off on SBI Cards  \n",
       "20               10% Off on SBI Cards  \n",
       "21               10% Off on SBI Cards  \n",
       "22               10% Off on SBI Cards  \n",
       "23               10% Off on SBI Cards  \n",
       "24               10% Off on SBI Cards  \n",
       "25               10% Off on SBI Cards  \n",
       "26               10% Off on SBI Cards  \n",
       "27               10% Off on SBI Cards  \n",
       "28               10% Off on SBI Cards  \n",
       "29                                     \n",
       "30               10% Off on SBI Cards  \n",
       "31               10% Off on SBI Cards  \n",
       "32               10% Off on SBI Cards  \n",
       "33               10% Off on SBI Cards  \n",
       "34               10% Off on SBI Cards  \n",
       "35               10% Off on SBI Cards  \n",
       "36  Buy 2 get 5% off Buy 3 get 10%...  \n",
       "37               10% Off on SBI Cards  \n",
       "38               10% Off on SBI Cards  \n",
       "39  Buy 2 get 5% off Buy 3 get 10%...  \n",
       "40               10% Off on SBI Cards  \n",
       "41               10% Off on SBI Cards  \n",
       "42  Buy 2 get 5% off Buy 3 get 10%...  \n",
       "43  Buy 2 get 5% off Buy 3 get 10%...  \n",
       "44               10% Off on SBI Cards  \n",
       "45               10% Off on SBI Cards  \n",
       "46               10% Off on SBI Cards  \n",
       "47               10% Off on SBI Cards  \n",
       "48               10% Off on SBI Cards  \n",
       "49               10% Off on SBI Cards  \n",
       "50               10% Off on SBI Cards  \n",
       "51               10% Off on SBI Cards  \n",
       "52               10% Off on SBI Cards  \n",
       "53               10% Off on SBI Cards  \n",
       "54               10% Off on SBI Cards  \n",
       "55               10% Off on SBI Cards  \n",
       "56                                  -  \n",
       "57                                  -  \n",
       "58                                  -  \n",
       "59                                  -  "
      ]
     },
     "execution_count": 53,
     "metadata": {},
     "output_type": "execute_result"
    }
   ],
   "source": [
    "df"
   ]
  },
  {
   "cell_type": "code",
   "execution_count": 54,
   "id": "35b64952",
   "metadata": {},
   "outputs": [],
   "source": [
    "#save as CSV file\n",
    "df.to_csv('guitar.csv')"
   ]
  },
  {
   "cell_type": "code",
   "execution_count": 55,
   "id": "a866faf0",
   "metadata": {},
   "outputs": [],
   "source": [
    "driver.close()"
   ]
  },
  {
   "cell_type": "markdown",
   "id": "5cd6118c",
   "metadata": {},
   "source": [
    "# 3. Write a python program to access the search bar and search button on images.google.com and scrape 10\n",
    "images each for keywords ‘fruits’, ‘cars’ and ‘Machine Learning’, ‘Guitar’, ‘Cakes’."
   ]
  },
  {
   "cell_type": "code",
   "execution_count": 56,
   "id": "0b8a0d64",
   "metadata": {},
   "outputs": [],
   "source": [
    "import os\n",
    "import selenium\n",
    "from selenium import webdriver\n",
    "import time\n",
    "from PIL import Image\n",
    "import io\n",
    "import requests\n",
    "from webdriver_manager.chrome import ChromeDriverManager\n",
    "from selenium.common.exceptions import ElementClickInterceptedException"
   ]
  },
  {
   "cell_type": "markdown",
   "id": "491c9294",
   "metadata": {},
   "source": [
    "1.Fruits"
   ]
  },
  {
   "cell_type": "code",
   "execution_count": 72,
   "id": "e592c3e4",
   "metadata": {},
   "outputs": [],
   "source": [
    "from selenium.webdriver.common.keys import Keys\n"
   ]
  },
  {
   "cell_type": "code",
   "execution_count": 73,
   "id": "2cc61846",
   "metadata": {},
   "outputs": [],
   "source": [
    "#Open Driver\n",
    "driver=webdriver.Chrome(r\"C:\\Users\\princ\\Downloads\\chromedriver_win32 (3)\\chromedriver.exe\")\n",
    "#open driver with url\n",
    "driver.get('https://images.google.com/')\n",
    "\n",
    "time.sleep(5)\n",
    "# get web element for search button\n",
    "search_wbe=driver.find_element(By.XPATH,\"/html/body/div[1]/div[3]/form/div[1]/div[1]/div[1]/div/div[2]/input\")\n",
    "#enter text into search bar\n",
    "search_wbe.send_keys('fruits',Keys.ENTER)\n",
    "# give time to load the images page\n",
    "time.sleep(5)\n",
    "# get webelement for 1st image\n",
    "first_image_wbe=driver.find_element(By.XPATH,\"//div[@class='bRMDJf islir']//following::img\")\n",
    "# get web element for 'more results' buttom\n",
    "more_btn=driver.find_element(By.XPATH,\"//div[@class='qvfT1']\")\n",
    "# scroll to 'more results' button\n",
    "for i in range(5):\n",
    "    driver.execute_script(\"arguments[0].scrollIntoView(true);\",more_btn)\n",
    "    time.sleep(10)\n",
    "# get to the top of page\n",
    "driver.execute_script(\"arguments[0].scrollIntoView(true);\",first_image_wbe)\n",
    "# initiate list before using it\n",
    "images=[]\n",
    "images.clear()\n",
    "# get webelemnts for images on the page\n",
    "images = driver.find_elements(By.XPATH,\"//div[@class='bRMDJf islir']//following::img\")\n",
    "# loop for 100 webelements\n",
    "for i in range(100):\n",
    "    images[i].screenshot('F:/fruit_pics/fruits_'+str(i)+'.png')"
   ]
  },
  {
   "cell_type": "markdown",
   "id": "73a0fc40",
   "metadata": {},
   "source": [
    "car pictures"
   ]
  },
  {
   "cell_type": "code",
   "execution_count": 75,
   "id": "3d4ecd23",
   "metadata": {},
   "outputs": [],
   "source": [
    "#Open Driver\n",
    "driver=webdriver.Chrome(r\"C:\\Users\\princ\\Downloads\\chromedriver_win32 (3)\\chromedriver.exe\")\n",
    "#open driver with url\n",
    "driver.get('https://images.google.com/')\n",
    "\n",
    "time.sleep(5)\n",
    "# get web element for search button\n",
    "search_wbe=driver.find_element(By.XPATH,\"/html/body/div[1]/div[3]/form/div[1]/div[1]/div[1]/div/div[2]/input\")\n",
    "#enter text into search bar\n",
    "search_wbe.send_keys('cars',Keys.ENTER)\n",
    "# give time to load the images page\n",
    "time.sleep(5)\n",
    "# get webelement for 1st image\n",
    "first_image_wbe=driver.find_element(By.XPATH,\"//div[@class='bRMDJf islir']//following::img\")\n",
    "# get web element for 'more results' buttom\n",
    "more_btn=driver.find_element(By.XPATH,\"//div[@class='qvfT1']\")\n",
    "# scroll to 'more results' button\n",
    "for i in range(5):\n",
    "    driver.execute_script(\"arguments[0].scrollIntoView(true);\",more_btn)\n",
    "    time.sleep(10)\n",
    "# get to the top of page\n",
    "driver.execute_script(\"arguments[0].scrollIntoView(true);\",first_image_wbe)\n",
    "# initiate list before using it\n",
    "images=[]\n",
    "images.clear()\n",
    "# get webelemnts for images on the page\n",
    "images = driver.find_elements(By.XPATH,\"//div[@class='bRMDJf islir']//following::img\")\n",
    "# loop for 100 webelements\n",
    "for i in range(100):\n",
    "    images[i].screenshot('F:/car_pics/car_'+str(i)+'.png')"
   ]
  },
  {
   "cell_type": "markdown",
   "id": "c4e65a82",
   "metadata": {},
   "source": [
    "Machine Learning pics"
   ]
  },
  {
   "cell_type": "code",
   "execution_count": 77,
   "id": "36b343ab",
   "metadata": {},
   "outputs": [],
   "source": [
    "#Open Driver\n",
    "driver=webdriver.Chrome(r\"C:\\Users\\princ\\Downloads\\chromedriver_win32 (3)\\chromedriver.exe\")\n",
    "#open driver with url\n",
    "driver.get('https://images.google.com/')\n",
    "\n",
    "time.sleep(5)\n",
    "# get web element for search button\n",
    "search_wbe=driver.find_element(By.XPATH,\"/html/body/div[1]/div[3]/form/div[1]/div[1]/div[1]/div/div[2]/input\")\n",
    "#enter text into search bar\n",
    "search_wbe.send_keys('Machine Learning',Keys.ENTER)\n",
    "# give time to load the images page\n",
    "time.sleep(5)\n",
    "# get webelement for 1st image\n",
    "first_image_wbe=driver.find_element(By.XPATH,\"//div[@class='bRMDJf islir']//following::img\")\n",
    "# get web element for 'more results' buttom\n",
    "more_btn=driver.find_element(By.XPATH,\"//div[@class='qvfT1']\")\n",
    "# scroll to 'more results' button\n",
    "for i in range(5):\n",
    "    driver.execute_script(\"arguments[0].scrollIntoView(true);\",more_btn)\n",
    "    time.sleep(10)\n",
    "# get to the top of page\n",
    "driver.execute_script(\"arguments[0].scrollIntoView(true);\",first_image_wbe)\n",
    "# initiate list before using it\n",
    "images=[]\n",
    "images.clear()\n",
    "# get webelemnts for images on the page\n",
    "images = driver.find_elements(By.XPATH,\"//div[@class='bRMDJf islir']//following::img\")\n",
    "# loop for 100 webelements\n",
    "for i in range(100):\n",
    "    images[i].screenshot('F:/ml_pics/ml_'+str(i)+'.png')"
   ]
  },
  {
   "cell_type": "code",
   "execution_count": 78,
   "id": "1e13a56d",
   "metadata": {},
   "outputs": [],
   "source": [
    "driver.close()"
   ]
  },
  {
   "cell_type": "markdown",
   "id": "35f248ca",
   "metadata": {},
   "source": [
    "# 4. Write a python program to search for a smartphone(e.g.: Oneplus Nord, pixel 4A, etc.) on\n",
    "www.flipkart.com and scrape following details for all the search results displayed on 1st page. Details to be \n",
    "scraped: “Brand Name”, “Smartphone name”, “Colour”, “RAM”, “Storage(ROM)”, “Primary Camera”, \n",
    "“Secondary Camera”, “Display Size”, “Battery Capacity”, “Price”, “Product URL”. Incase if any of the \n",
    "details is missing then replace it by “- “. Save your results in a dataframe and CSV."
   ]
  },
  {
   "cell_type": "code",
   "execution_count": 91,
   "id": "7d48409d",
   "metadata": {},
   "outputs": [],
   "source": [
    "#Open Driver\n",
    "driver=webdriver.Chrome(r\"C:\\Users\\princ\\Downloads\\chromedriver_win32 (3)\\chromedriver.exe\")\n",
    "#open driver with url\n",
    "driver.get('https://www.flipkart.com/')\n"
   ]
  },
  {
   "cell_type": "code",
   "execution_count": 95,
   "id": "4c6024ba",
   "metadata": {},
   "outputs": [],
   "source": [
    "search=driver.find_element(By.XPATH,'/html/body/div[1]/div/div[1]/div[1]/div[2]/div[2]/form/div/div/input')\n",
    "search.send_keys('smartphone')"
   ]
  },
  {
   "cell_type": "code",
   "execution_count": 100,
   "id": "ab9083d4",
   "metadata": {},
   "outputs": [],
   "source": [
    "search_bar=driver.find_element(By.XPATH,'/html/body/div[1]/div/div[1]/div[1]/div[2]/div[2]/form/div/button')\n",
    "search_bar.click()\n"
   ]
  },
  {
   "cell_type": "code",
   "execution_count": 101,
   "id": "99131aeb",
   "metadata": {},
   "outputs": [],
   "source": [
    "Brand_Name=[]\n",
    "Colour=[]\n",
    "P_F_Camera=[]\n",
    "Display_size_Resolution=[]\n",
    "ProcessorAndCores=[]\n",
    "Battery=[]\n",
    "Price=[]\n",
    "Product_URL=[]"
   ]
  },
  {
   "cell_type": "code",
   "execution_count": 102,
   "id": "d2d84871",
   "metadata": {},
   "outputs": [
    {
     "name": "stdout",
     "output_type": "stream",
     "text": [
      "24 ['SAMSUNG Galaxy F13 (Nightsky Green, 64 GB)', 'SAMSUNG Galaxy F13 (Waterfall Blue, 64 GB)', 'SAMSUNG Galaxy F13 (Sunrise Copper, 64 GB)', 'APPLE iPhone 11 (Black, 128 GB)', 'REDMI 10 (Pacific Blue, 64 GB)', 'APPLE iPhone 11 (White, 128 GB)', 'APPLE iPhone 13 (Starlight, 128 GB)', 'APPLE iPhone 13 (Green, 128 GB)', 'REDMI 10 (Midnight Black, 64 GB)', 'APPLE iPhone 11 (White, 64 GB)', 'POCO C31 (Royal Blue, 32 GB)', 'REDMI 10 (Caribbean Green, 64 GB)', 'POCO C31 (Royal Blue, 64 GB)', 'APPLE iPhone 11 (Black, 64 GB)', 'realme C33 (Night Sea, 32 GB)', 'realme C33 (Night Sea, 64 GB)', 'realme C33 (Aqua Blue, 32 GB)', 'realme C33 (Sandy Gold, 64 GB)', 'realme C33 (Sandy Gold, 32 GB)', 'realme C33 (Aqua Blue, 64 GB)', 'APPLE iPhone 13 (Midnight, 128 GB)', 'realme C30 (Lake Blue, 32 GB)', 'realme C30 (Denim Black, 32 GB)', 'realme C30 (Bamboo Green, 32 GB)']\n"
     ]
    }
   ],
   "source": [
    "#scraping the Brand_Name \n",
    "BName=driver.find_elements(By.XPATH,\"//div[@class='_4rR01T']\")\n",
    "for i in BName:\n",
    "    if i.text is None :\n",
    "        Brand_Name.append(\"--\") \n",
    "    else:\n",
    "        Brand_Name.append(i.text)\n",
    "print(len(Brand_Name),Brand_Name)"
   ]
  },
  {
   "cell_type": "code",
   "execution_count": 105,
   "id": "77c84db5",
   "metadata": {},
   "outputs": [],
   "source": [
    "Storage_RAM_ROM=[]"
   ]
  },
  {
   "cell_type": "code",
   "execution_count": 106,
   "id": "7b8bac72",
   "metadata": {},
   "outputs": [
    {
     "name": "stdout",
     "output_type": "stream",
     "text": [
      "24 ['4 GB RAM | 64 GB ROM | Expandable Upto 1 TB', '4 GB RAM | 64 GB ROM | Expandable Upto 1 TB', '4 GB RAM | 64 GB ROM | Expandable Upto 1 TB', '128 GB ROM', '4 GB RAM | 64 GB ROM | Expandable Upto 1 TB', '128 GB ROM', '128 GB ROM', '128 GB ROM', '4 GB RAM | 64 GB ROM | Expandable Upto 1 TB', '64 GB ROM', '3 GB RAM | 32 GB ROM | Expandable Upto 512 GB', '4 GB RAM | 64 GB ROM | Expandable Upto 1 TB', '4 GB RAM | 64 GB ROM | Expandable Upto 512 GB', '64 GB ROM', '3 GB RAM | 32 GB ROM | Expandable Upto 1 TB', '4 GB RAM | 64 GB ROM | Expandable Upto 1 TB', '3 GB RAM | 32 GB ROM | Expandable Upto 1 TB', '4 GB RAM | 64 GB ROM | Expandable Upto 1 TB', '3 GB RAM | 32 GB ROM | Expandable Upto 1 TB', '4 GB RAM | 64 GB ROM | Expandable Upto 1 TB', '128 GB ROM', '2 GB RAM | 32 GB ROM | Expandable Upto 1 TB', '2 GB RAM | 32 GB ROM | Expandable Upto 1 TB', '2 GB RAM | 32 GB ROM | Expandable Upto 1 TB']\n"
     ]
    }
   ],
   "source": [
    "#scraping the Storage_RAM_ROM \n",
    "ram=driver.find_elements(By.XPATH,\"//ul[@class='_1xgFaf']//li[1]\")\n",
    "for i in ram:\n",
    "    if i.text is None :\n",
    "        Storage_RAM_ROM.append(\"--\") \n",
    "    else:\n",
    "        Storage_RAM_ROM.append(i.text)\n",
    "print(len(Storage_RAM_ROM),Storage_RAM_ROM)"
   ]
  },
  {
   "cell_type": "code",
   "execution_count": 107,
   "id": "102f4a84",
   "metadata": {},
   "outputs": [
    {
     "name": "stdout",
     "output_type": "stream",
     "text": [
      "24 ['16.76 cm (6.6 inch) Full HD+ Display', '16.76 cm (6.6 inch) Full HD+ Display', '16.76 cm (6.6 inch) Full HD+ Display', '15.49 cm (6.1 inch) Liquid Retina HD Display', '17.02 cm (6.7 inch) HD+ Display', '15.49 cm (6.1 inch) Liquid Retina HD Display', '15.49 cm (6.1 inch) Super Retina XDR Display', '15.49 cm (6.1 inch) Super Retina XDR Display', '17.02 cm (6.7 inch) HD+ Display', '15.49 cm (6.1 inch) Liquid Retina HD Display', '16.59 cm (6.53 inch) HD+ Display', '17.02 cm (6.7 inch) HD+ Display', '16.59 cm (6.53 inch) HD+ Display', '15.49 cm (6.1 inch) Liquid Retina HD Display', '16.51 cm (6.5 inch) HD+ Display', '16.51 cm (6.5 inch) HD+ Display', '16.51 cm (6.5 inch) HD+ Display', '16.51 cm (6.5 inch) HD+ Display', '16.51 cm (6.5 inch) HD+ Display', '16.51 cm (6.5 inch) HD+ Display', '15.49 cm (6.1 inch) Super Retina XDR Display', '16.51 cm (6.5 inch) HD+ Display', '16.51 cm (6.5 inch) HD+ Display', '16.51 cm (6.5 inch) HD+ Display']\n"
     ]
    }
   ],
   "source": [
    "#scraping the Display_size_Resolution \n",
    "DS=driver.find_elements(By.XPATH,\"//ul[@class='_1xgFaf']//li[2]\")\n",
    "for i in DS:\n",
    "    if i.text is None :\n",
    "        Display_size_Resolution.append(\"--\") \n",
    "    else:\n",
    "        Display_size_Resolution.append(i.text)\n",
    "print(len(Display_size_Resolution),Display_size_Resolution)"
   ]
  },
  {
   "cell_type": "code",
   "execution_count": 108,
   "id": "04b5a9df",
   "metadata": {},
   "outputs": [
    {
     "name": "stdout",
     "output_type": "stream",
     "text": [
      "24 ['Exynos 850 Processor', 'Exynos 850 Processor', 'Exynos 850 Processor', 'Brand Warranty of 1 Year', 'Qualcomm Snapdragon 680 Processor', 'Brand Warranty of 1 Year', 'Brand Warranty for 1 Year', 'Brand Warranty for 1 Year', 'Qualcomm Snapdragon 680 Processor', 'Brand Warranty of 1 Year', 'MediaTek Helio G35 Processor', 'Qualcomm Snapdragon 680 Processor', 'MediaTek G35 Processor', 'Brand Warranty of 1 Year', 'Unisoc T612 Processor', 'Unisoc T612 Processor', 'Unisoc T612 Processor', 'Unisoc T612 Processor', 'Unisoc T612 Processor', 'Unisoc T612 Processor', 'Brand Warranty for 1 Year', 'Unisoc T612 Processor', 'Unisoc T612 Processor', 'Unisoc T612 Processor']\n"
     ]
    }
   ],
   "source": [
    "#scraping the ProcessorAndCores \n",
    "P=driver.find_elements(By.XPATH,\"//ul[@class='_1xgFaf']//li[5]\")\n",
    "for i in P:\n",
    "    if i.text is None :\n",
    "        ProcessorAndCores.append(\"--\") \n",
    "    else:\n",
    "        ProcessorAndCores.append(i.text)\n",
    "print(len(ProcessorAndCores),ProcessorAndCores)"
   ]
  },
  {
   "cell_type": "code",
   "execution_count": 109,
   "id": "1774920f",
   "metadata": {},
   "outputs": [
    {
     "name": "stdout",
     "output_type": "stream",
     "text": [
      "24 ['6000 mAh Lithium Ion Battery', '6000 mAh Lithium Ion Battery', '6000 mAh Lithium Ion Battery', 'A13 Bionic Chip Processor', '6000 mAh Lithium Polymer Battery', 'A13 Bionic Chip Processor', 'A15 Bionic Chip Processor', 'A15 Bionic Chip Processor', '6000 mAh Lithium Polymer Battery', 'A13 Bionic Chip Processor', '5000 mAh Lithium-ion Polymer Battery', '6000 mAh Lithium Polymer Battery', '5000 mAh Lithium-ion Polymer Battery', 'A13 Bionic Chip Processor', '5000 mAh Lithium Ion Battery', '5000 mAh Lithium Ion Battery', '5000 mAh Lithium Ion Battery', '5000 mAh Lithium Ion Battery', '5000 mAh Lithium Ion Battery', '5000 mAh Lithium Ion Battery', 'A15 Bionic Chip Processor', '5000 mAh Lithium Ion Battery', '5000 mAh Lithium Ion Battery', '5000 mAh Lithium Ion Battery']\n"
     ]
    }
   ],
   "source": [
    "#scraping the Battery \n",
    "B=driver.find_elements(By.XPATH,\"//ul[@class='_1xgFaf']//li[4]\")\n",
    "for i in B:\n",
    "    if i.text is None :\n",
    "        Battery.append(\"--\") \n",
    "    else:\n",
    "        Battery.append(i.text)\n",
    "print(len(Battery),Battery)"
   ]
  },
  {
   "cell_type": "code",
   "execution_count": 110,
   "id": "010f2f6c",
   "metadata": {},
   "outputs": [
    {
     "name": "stdout",
     "output_type": "stream",
     "text": [
      "24 ['₹9,499', '₹9,499', '₹9,499', '₹41,990', '₹8,499', '₹42,990', '₹58,990', '₹57,990', '₹8,499', '₹36,990', '₹6,666', '₹8,499', '₹7,777', '₹35,990', '₹8,249', '₹8,999', '₹8,249', '₹8,999', '₹8,249', '₹8,999', '₹57,990', '₹6,110', '₹6,110', '₹6,110']\n"
     ]
    }
   ],
   "source": [
    "#scraping the Price \n",
    "price=driver.find_elements(By.XPATH,\"//div[@class='_30jeq3 _1_WHN1']\")\n",
    "for i in price:\n",
    "    if i.text is None :\n",
    "        Price.append(\"--\") \n",
    "    else:\n",
    "        Price.append(i.text)\n",
    "print(len(Price),Price)"
   ]
  },
  {
   "cell_type": "code",
   "execution_count": 111,
   "id": "e66d892e",
   "metadata": {},
   "outputs": [],
   "source": [
    "FlipKart=pd.DataFrame([])\n",
    "FlipKart['Brand_Name']=Brand_Name\n",
    "FlipKart['Storage_RAM_ROM']=Storage_RAM_ROM\n",
    "FlipKart['Display_size_Resolution']=Display_size_Resolution\n",
    "FlipKart['ProcessorAndCores']=ProcessorAndCores\n",
    "FlipKart['Battery']=Battery\n",
    "FlipKart['Price']=Price"
   ]
  },
  {
   "cell_type": "code",
   "execution_count": 112,
   "id": "00a45c58",
   "metadata": {},
   "outputs": [
    {
     "data": {
      "text/html": [
       "<div>\n",
       "<style scoped>\n",
       "    .dataframe tbody tr th:only-of-type {\n",
       "        vertical-align: middle;\n",
       "    }\n",
       "\n",
       "    .dataframe tbody tr th {\n",
       "        vertical-align: top;\n",
       "    }\n",
       "\n",
       "    .dataframe thead th {\n",
       "        text-align: right;\n",
       "    }\n",
       "</style>\n",
       "<table border=\"1\" class=\"dataframe\">\n",
       "  <thead>\n",
       "    <tr style=\"text-align: right;\">\n",
       "      <th></th>\n",
       "      <th>Brand_Name</th>\n",
       "      <th>Storage_RAM_ROM</th>\n",
       "      <th>Display_size_Resolution</th>\n",
       "      <th>ProcessorAndCores</th>\n",
       "      <th>Battery</th>\n",
       "      <th>Price</th>\n",
       "    </tr>\n",
       "  </thead>\n",
       "  <tbody>\n",
       "    <tr>\n",
       "      <th>0</th>\n",
       "      <td>SAMSUNG Galaxy F13 (Nightsky Green, 64 GB)</td>\n",
       "      <td>4 GB RAM | 64 GB ROM | Expandable Upto 1 TB</td>\n",
       "      <td>16.76 cm (6.6 inch) Full HD+ Display</td>\n",
       "      <td>Exynos 850 Processor</td>\n",
       "      <td>6000 mAh Lithium Ion Battery</td>\n",
       "      <td>₹9,499</td>\n",
       "    </tr>\n",
       "    <tr>\n",
       "      <th>1</th>\n",
       "      <td>SAMSUNG Galaxy F13 (Waterfall Blue, 64 GB)</td>\n",
       "      <td>4 GB RAM | 64 GB ROM | Expandable Upto 1 TB</td>\n",
       "      <td>16.76 cm (6.6 inch) Full HD+ Display</td>\n",
       "      <td>Exynos 850 Processor</td>\n",
       "      <td>6000 mAh Lithium Ion Battery</td>\n",
       "      <td>₹9,499</td>\n",
       "    </tr>\n",
       "    <tr>\n",
       "      <th>2</th>\n",
       "      <td>SAMSUNG Galaxy F13 (Sunrise Copper, 64 GB)</td>\n",
       "      <td>4 GB RAM | 64 GB ROM | Expandable Upto 1 TB</td>\n",
       "      <td>16.76 cm (6.6 inch) Full HD+ Display</td>\n",
       "      <td>Exynos 850 Processor</td>\n",
       "      <td>6000 mAh Lithium Ion Battery</td>\n",
       "      <td>₹9,499</td>\n",
       "    </tr>\n",
       "    <tr>\n",
       "      <th>3</th>\n",
       "      <td>APPLE iPhone 11 (Black, 128 GB)</td>\n",
       "      <td>128 GB ROM</td>\n",
       "      <td>15.49 cm (6.1 inch) Liquid Retina HD Display</td>\n",
       "      <td>Brand Warranty of 1 Year</td>\n",
       "      <td>A13 Bionic Chip Processor</td>\n",
       "      <td>₹41,990</td>\n",
       "    </tr>\n",
       "    <tr>\n",
       "      <th>4</th>\n",
       "      <td>REDMI 10 (Pacific Blue, 64 GB)</td>\n",
       "      <td>4 GB RAM | 64 GB ROM | Expandable Upto 1 TB</td>\n",
       "      <td>17.02 cm (6.7 inch) HD+ Display</td>\n",
       "      <td>Qualcomm Snapdragon 680 Processor</td>\n",
       "      <td>6000 mAh Lithium Polymer Battery</td>\n",
       "      <td>₹8,499</td>\n",
       "    </tr>\n",
       "  </tbody>\n",
       "</table>\n",
       "</div>"
      ],
      "text/plain": [
       "                                   Brand_Name  \\\n",
       "0  SAMSUNG Galaxy F13 (Nightsky Green, 64 GB)   \n",
       "1  SAMSUNG Galaxy F13 (Waterfall Blue, 64 GB)   \n",
       "2  SAMSUNG Galaxy F13 (Sunrise Copper, 64 GB)   \n",
       "3             APPLE iPhone 11 (Black, 128 GB)   \n",
       "4              REDMI 10 (Pacific Blue, 64 GB)   \n",
       "\n",
       "                               Storage_RAM_ROM  \\\n",
       "0  4 GB RAM | 64 GB ROM | Expandable Upto 1 TB   \n",
       "1  4 GB RAM | 64 GB ROM | Expandable Upto 1 TB   \n",
       "2  4 GB RAM | 64 GB ROM | Expandable Upto 1 TB   \n",
       "3                                   128 GB ROM   \n",
       "4  4 GB RAM | 64 GB ROM | Expandable Upto 1 TB   \n",
       "\n",
       "                        Display_size_Resolution  \\\n",
       "0          16.76 cm (6.6 inch) Full HD+ Display   \n",
       "1          16.76 cm (6.6 inch) Full HD+ Display   \n",
       "2          16.76 cm (6.6 inch) Full HD+ Display   \n",
       "3  15.49 cm (6.1 inch) Liquid Retina HD Display   \n",
       "4               17.02 cm (6.7 inch) HD+ Display   \n",
       "\n",
       "                   ProcessorAndCores                           Battery  \\\n",
       "0               Exynos 850 Processor      6000 mAh Lithium Ion Battery   \n",
       "1               Exynos 850 Processor      6000 mAh Lithium Ion Battery   \n",
       "2               Exynos 850 Processor      6000 mAh Lithium Ion Battery   \n",
       "3           Brand Warranty of 1 Year         A13 Bionic Chip Processor   \n",
       "4  Qualcomm Snapdragon 680 Processor  6000 mAh Lithium Polymer Battery   \n",
       "\n",
       "     Price  \n",
       "0   ₹9,499  \n",
       "1   ₹9,499  \n",
       "2   ₹9,499  \n",
       "3  ₹41,990  \n",
       "4   ₹8,499  "
      ]
     },
     "execution_count": 112,
     "metadata": {},
     "output_type": "execute_result"
    }
   ],
   "source": [
    "FlipKart.head()"
   ]
  },
  {
   "cell_type": "code",
   "execution_count": 113,
   "id": "38df7361",
   "metadata": {},
   "outputs": [
    {
     "data": {
      "text/plain": [
       "(24, 6)"
      ]
     },
     "execution_count": 113,
     "metadata": {},
     "output_type": "execute_result"
    }
   ],
   "source": [
    "FlipKart.shape"
   ]
  },
  {
   "cell_type": "code",
   "execution_count": 114,
   "id": "b7dfe0df",
   "metadata": {},
   "outputs": [],
   "source": [
    "FlipKart.to_csv('mobiles.csv')"
   ]
  },
  {
   "cell_type": "code",
   "execution_count": 115,
   "id": "1b30b461",
   "metadata": {},
   "outputs": [],
   "source": [
    "driver.close()"
   ]
  }
 ],
 "metadata": {
  "kernelspec": {
   "display_name": "Python 3 (ipykernel)",
   "language": "python",
   "name": "python3"
  },
  "language_info": {
   "codemirror_mode": {
    "name": "ipython",
    "version": 3
   },
   "file_extension": ".py",
   "mimetype": "text/x-python",
   "name": "python",
   "nbconvert_exporter": "python",
   "pygments_lexer": "ipython3",
   "version": "3.9.7"
  }
 },
 "nbformat": 4,
 "nbformat_minor": 5
}
